{
 "cells": [
  {
   "cell_type": "code",
   "execution_count": 123,
   "metadata": {},
   "outputs": [],
   "source": [
    "import numpy as np\n",
    "import pandas as pd\n",
    "import os\n",
    "from matplotlib import pyplot as plt\n",
    "\n",
    "X = np.load('../Dvara/X_10_2_re.npy')\n",
    "y = np.load('../Dvara/y_10_2_re.npy')\n",
    "#y = (X[:,-1,-1]>=5)*1"
   ]
  },
  {
   "cell_type": "code",
   "execution_count": 124,
   "metadata": {},
   "outputs": [],
   "source": [
    "ind_pass1 = np.isnan(X).sum(axis=1).sum(axis=1)\n",
    "ind_pass2 = [i==0 for i in ind_pass1]"
   ]
  },
  {
   "cell_type": "code",
   "execution_count": 125,
   "metadata": {},
   "outputs": [],
   "source": [
    "X = X[ind_pass2]\n",
    "y = y[ind_pass2]"
   ]
  },
  {
   "cell_type": "code",
   "execution_count": 126,
   "metadata": {},
   "outputs": [],
   "source": [
    "req_cols = ['active_loans_count', 'opened_loans_count', 'closed_loans_count', 'churn', 'outstanding_loans_end', 'cross_bor', 'outstanding_loans_beginning', 'income_annual', 'expense_quarter', 'emi', 'dpd']\n",
    "\n",
    "# acc_cols = [7,8,10]\n",
    "# X = X[:,:,acc_cols]\n",
    "\n",
    "col1 = [0,1,2,3,4,5,6]\n",
    "col2 = [7,8,9]\n",
    "col3 = [10]"
   ]
  },
  {
   "cell_type": "code",
   "execution_count": 127,
   "metadata": {
    "scrolled": true
   },
   "outputs": [],
   "source": [
    "from keras.models import Sequential, Model\n",
    "from keras.layers import Dense, LSTM, GRU, Input, Dropout, Lambda, TimeDistributed, Concatenate, Maximum\n",
    "from keras.utils import np_utils\n",
    "from sklearn.preprocessing import LabelEncoder\n",
    "from keras.callbacks import EarlyStopping\n",
    "\n",
    "from sklearn.model_selection import train_test_split\n",
    "\n",
    "X_train, X_test, y_train, y_test = train_test_split(X, y, test_size=0.25, random_state=4)\n",
    "\n",
    "X_train1 = X_train[:,:,col1]\n",
    "X_train2 = X_train[:,:,col2]\n",
    "X_train3 = (X_train[:,:,col3]>=5)*1\n",
    "\n",
    "X_test1 = X_test[:,:,col1]\n",
    "X_test2 = X_test[:,:,col2]\n",
    "X_test3 = (X_test[:,:,col3]>=5)*1"
   ]
  },
  {
   "cell_type": "code",
   "execution_count": 128,
   "metadata": {},
   "outputs": [],
   "source": [
    "import keras.backend as K"
   ]
  },
  {
   "cell_type": "code",
   "execution_count": 129,
   "metadata": {},
   "outputs": [
    {
     "data": {
      "text/plain": [
       "(67845, 10, 1)"
      ]
     },
     "execution_count": 129,
     "metadata": {},
     "output_type": "execute_result"
    }
   ],
   "source": [
    "X_train3.shape"
   ]
  },
  {
   "cell_type": "code",
   "execution_count": 130,
   "metadata": {},
   "outputs": [],
   "source": [
    "inp1 = Input(shape=(X_train1.shape[1], X_train1.shape[2]))\n",
    "inp2 = Input(shape=(X_train2.shape[1], X_train2.shape[2]))\n",
    "inp3 = Input(shape=(X_train3.shape[1], X_train3.shape[2]))\n",
    "\n",
    "layer1_1 = LSTM(64, activation='tanh', recurrent_dropout=0.3, return_sequences=True)(inp1)\n",
    "layer2_1 = GRU(32, activation='tanh', recurrent_dropout=0.3)(layer1_1)\n",
    "\n",
    "layer1_2 = LSTM(64, activation='tanh', recurrent_dropout=0.3, return_sequences=True)(inp2)\n",
    "layer2_2 = GRU(32, activation='tanh', recurrent_dropout=0.3)(layer1_2)\n",
    "\n",
    "layer1_3 = LSTM(64, activation='tanh', recurrent_dropout=0.3, return_sequences=True)(inp3)\n",
    "layer2_3 = GRU(64, activation='tanh', recurrent_dropout=0.3)(layer1_3)\n",
    "\n",
    "layer2 = Concatenate()([layer2_1, layer2_2])\n",
    "layer3 = Maximum()([layer2, layer2_3])\n",
    "\n",
    "layer4 = Dropout(0.4)(layer3)\n",
    "layer5 = Dense(32, activation = 'tanh')(layer4)\n",
    "layer6 = Dropout(0.4)(layer5)\n",
    "layer7 = Dense(8, activation='tanh')(layer6)\n",
    "out = Dense(1, activation = 'sigmoid')(layer7)\n",
    "\n",
    "model = Model(inputs=[inp1, inp2, inp3], outputs=out)"
   ]
  },
  {
   "cell_type": "code",
   "execution_count": 313,
   "metadata": {},
   "outputs": [],
   "source": [
    "def custom_loss(layer):\n",
    "\n",
    "    # Create a loss function that adds the MSE loss to the mean of all squared activations of a specific layer\n",
    "    def loss(y_true,y_pred):\n",
    "        return K.binary_crossentropy(y_true, y_pred) + 5*K.mean(layer[:,-1,0]*K.square(y_pred - layer[:,-1,0]), axis=-1)\n",
    "        #return K.mean(K.square(y_pred - y_true) + layer[:,-1,0]*K.square(y_pred - layer[:,-1,0]), axis=-1)\n",
    "        #return K.mean(K.square(y_pred - y_true) + 10*y_true*K.square(y_pred - y_true), axis=-1)\n",
    "   \n",
    "    # Return a function\n",
    "    return loss"
   ]
  },
  {
   "cell_type": "code",
   "execution_count": 314,
   "metadata": {},
   "outputs": [],
   "source": [
    "model.compile(optimizer='adam',\n",
    "          loss=custom_loss(inp3),\n",
    "          metrics=['accuracy'])"
   ]
  },
  {
   "cell_type": "code",
   "execution_count": 315,
   "metadata": {
    "scrolled": true
   },
   "outputs": [
    {
     "name": "stdout",
     "output_type": "stream",
     "text": [
      "__________________________________________________________________________________________________\n",
      "Layer (type)                    Output Shape         Param #     Connected to                     \n",
      "==================================================================================================\n",
      "input_28 (InputLayer)           (None, 10, 7)        0                                            \n",
      "__________________________________________________________________________________________________\n",
      "input_29 (InputLayer)           (None, 10, 3)        0                                            \n",
      "__________________________________________________________________________________________________\n",
      "lstm_25 (LSTM)                  (None, 10, 64)       18432       input_28[0][0]                   \n",
      "__________________________________________________________________________________________________\n",
      "lstm_26 (LSTM)                  (None, 10, 64)       17408       input_29[0][0]                   \n",
      "__________________________________________________________________________________________________\n",
      "input_30 (InputLayer)           (None, 10, 1)        0                                            \n",
      "__________________________________________________________________________________________________\n",
      "gru_25 (GRU)                    (None, 32)           9312        lstm_25[0][0]                    \n",
      "__________________________________________________________________________________________________\n",
      "gru_26 (GRU)                    (None, 32)           9312        lstm_26[0][0]                    \n",
      "__________________________________________________________________________________________________\n",
      "lstm_27 (LSTM)                  (None, 10, 64)       16896       input_30[0][0]                   \n",
      "__________________________________________________________________________________________________\n",
      "concatenate_9 (Concatenate)     (None, 64)           0           gru_25[0][0]                     \n",
      "                                                                 gru_26[0][0]                     \n",
      "__________________________________________________________________________________________________\n",
      "gru_27 (GRU)                    (None, 64)           24768       lstm_27[0][0]                    \n",
      "__________________________________________________________________________________________________\n",
      "maximum_9 (Maximum)             (None, 64)           0           concatenate_9[0][0]              \n",
      "                                                                 gru_27[0][0]                     \n",
      "__________________________________________________________________________________________________\n",
      "dropout_17 (Dropout)            (None, 64)           0           maximum_9[0][0]                  \n",
      "__________________________________________________________________________________________________\n",
      "dense_25 (Dense)                (None, 32)           2080        dropout_17[0][0]                 \n",
      "__________________________________________________________________________________________________\n",
      "dropout_18 (Dropout)            (None, 32)           0           dense_25[0][0]                   \n",
      "__________________________________________________________________________________________________\n",
      "dense_26 (Dense)                (None, 8)            264         dropout_18[0][0]                 \n",
      "__________________________________________________________________________________________________\n",
      "dense_27 (Dense)                (None, 1)            9           dense_26[0][0]                   \n",
      "==================================================================================================\n",
      "Total params: 98,481\n",
      "Trainable params: 98,481\n",
      "Non-trainable params: 0\n",
      "__________________________________________________________________________________________________\n"
     ]
    }
   ],
   "source": [
    "model.summary()"
   ]
  },
  {
   "cell_type": "code",
   "execution_count": 316,
   "metadata": {},
   "outputs": [
    {
     "name": "stdout",
     "output_type": "stream",
     "text": [
      "Train on 67845 samples, validate on 22615 samples\n",
      "Epoch 1/50\n",
      "67845/67845 [==============================] - 358s 5ms/step - loss: 0.7722 - acc: 0.9485 - val_loss: 0.7675 - val_acc: 0.9557\n",
      "Epoch 2/50\n",
      "67845/67845 [==============================] - 282s 4ms/step - loss: 0.7704 - acc: 0.9577 - val_loss: 0.7688 - val_acc: 0.9564\n",
      "Epoch 3/50\n",
      "67845/67845 [==============================] - 282s 4ms/step - loss: 0.7698 - acc: 0.9575 - val_loss: 0.7686 - val_acc: 0.9545\n"
     ]
    },
    {
     "data": {
      "text/plain": [
       "<keras.callbacks.History at 0x22489f63438>"
      ]
     },
     "execution_count": 316,
     "metadata": {},
     "output_type": "execute_result"
    }
   ],
   "source": [
    "callbacks = [EarlyStopping(monitor='val_loss', patience=2)]\n",
    "model.fit([X_train1, X_train2, X_train3], y_train, batch_size = 128, epochs=50, validation_data=[[X_test1, X_test2, X_test3], y_test], shuffle=True, callbacks=callbacks)"
   ]
  },
  {
   "cell_type": "code",
   "execution_count": 317,
   "metadata": {},
   "outputs": [],
   "source": [
    "# Predict and get lables for the test data\n",
    "y_test_pred = (model.predict([X_test1, X_test2, X_test3])>=0.5)*1"
   ]
  },
  {
   "cell_type": "code",
   "execution_count": 318,
   "metadata": {},
   "outputs": [
    {
     "name": "stdout",
     "output_type": "stream",
     "text": [
      "Test Accuracy: 0.9545434446164051\n",
      "\n",
      "Test F1 score:\n",
      "              precision    recall  f1-score   support\n",
      "\n",
      "        0.0       0.97      0.97      0.97     17834\n",
      "        1.0       0.89      0.90      0.89      4781\n",
      "\n",
      "avg / total       0.95      0.95      0.95     22615\n",
      "\n",
      "\n",
      "Test confusion matrix:\n",
      " [[17275   559]\n",
      " [  469  4312]]\n"
     ]
    }
   ],
   "source": [
    "# Import packages for calculating metrics\n",
    "from sklearn.metrics import accuracy_score, classification_report, confusion_matrix\n",
    "print(\"Test Accuracy:\", accuracy_score(y_test, y_test_pred))\n",
    "print(\"\\nTest F1 score:\\n\", classification_report(y_test, y_test_pred))\n",
    "print(\"\\nTest confusion matrix:\\n\", confusion_matrix(y_test, y_test_pred))"
   ]
  },
  {
   "cell_type": "markdown",
   "metadata": {},
   "source": [
    "### Validation"
   ]
  },
  {
   "cell_type": "code",
   "execution_count": 376,
   "metadata": {},
   "outputs": [],
   "source": [
    "n = 1\n",
    "X_knn_val = np.load('Validation_Dataset_for_Autoencoder.npy')\n",
    "y_knn_val_new = ((X_knn_val[:,-n:,-1]>=5).sum(axis=1)>=1)*1\n",
    "arr_hhs = np.load('val_labels145.npy')"
   ]
  },
  {
   "cell_type": "code",
   "execution_count": 377,
   "metadata": {},
   "outputs": [],
   "source": [
    "ind_rej = np.logical_and(arr_hhs==0, y_knn_val_new==1)\n",
    "ind_pass = [i==False for i in ind_rej]"
   ]
  },
  {
   "cell_type": "code",
   "execution_count": 378,
   "metadata": {},
   "outputs": [],
   "source": [
    "X_knn_val = X_knn_val[ind_pass,:,:]\n",
    "y_knn_val_new = y_knn_val_new[ind_pass]\n",
    "arr_hhs = arr_hhs[ind_pass]"
   ]
  },
  {
   "cell_type": "code",
   "execution_count": 379,
   "metadata": {},
   "outputs": [],
   "source": [
    "X_knn_val1 = X_knn_val[:,:,col1]\n",
    "X_knn_val2 = X_knn_val[:,:,col2]\n",
    "X_knn_val3 = X_knn_val[:,:,col3]"
   ]
  },
  {
   "cell_type": "code",
   "execution_count": 380,
   "metadata": {},
   "outputs": [],
   "source": [
    "val_pred_prob = model.predict([X_knn_val1, X_knn_val2, X_knn_val3])"
   ]
  },
  {
   "cell_type": "code",
   "execution_count": 381,
   "metadata": {},
   "outputs": [],
   "source": [
    "val_pred = (val_pred_prob>=0.355)*1"
   ]
  },
  {
   "cell_type": "code",
   "execution_count": 382,
   "metadata": {},
   "outputs": [
    {
     "name": "stdout",
     "output_type": "stream",
     "text": [
      "Test Accuracy: 0.5656041512231282\n",
      "\n",
      "Test F1 score:\n",
      "              precision    recall  f1-score   support\n",
      "\n",
      "          0       0.48      0.40      0.44       566\n",
      "          1       0.61      0.68      0.65       783\n",
      "\n",
      "avg / total       0.56      0.57      0.56      1349\n",
      "\n",
      "\n",
      "Test confusion matrix:\n",
      " [[227 339]\n",
      " [247 536]]\n"
     ]
    }
   ],
   "source": [
    "from sklearn.metrics import accuracy_score, classification_report, confusion_matrix\n",
    "print(\"Test Accuracy:\", accuracy_score(arr_hhs, val_pred))\n",
    "print(\"\\nTest F1 score:\\n\", classification_report(arr_hhs, val_pred))\n",
    "print(\"\\nTest confusion matrix:\\n\", confusion_matrix(arr_hhs, val_pred))"
   ]
  },
  {
   "cell_type": "code",
   "execution_count": 383,
   "metadata": {},
   "outputs": [
    {
     "data": {
      "image/png": "[encoded data removed]",
      "text/plain": [
       "<matplotlib.figure.Figure at 0x2249a609a58>"
      ]
     },
     "metadata": {},
     "output_type": "display_data"
    }
   ],
   "source": [
    "plt.hist(val_pred_prob, bins=50)\n",
    "plt.show()"
   ]
  },
  {
   "cell_type": "code",
   "execution_count": null,
   "metadata": {},
   "outputs": [],
   "source": []
  },
  {
   "cell_type": "code",
   "execution_count": null,
   "metadata": {},
   "outputs": [],
   "source": []
  }
 ],
 "metadata": {
  "kernelspec": {
   "display_name": "Python 3",
   "language": "python",
   "name": "python3"
  },
  "language_info": {
   "codemirror_mode": {
    "name": "ipython",
    "version": 3
   },
   "file_extension": ".py",
   "mimetype": "text/x-python",
   "name": "python",
   "nbconvert_exporter": "python",
   "pygments_lexer": "ipython3",
   "version": "3.6.4"
  }
 },
 "nbformat": 4,
 "nbformat_minor": 2
}
