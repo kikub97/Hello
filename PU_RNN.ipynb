{
 "cells": [
  {
   "cell_type": "code",
   "execution_count": 167,
   "metadata": {},
   "outputs": [],
   "source": [
    "import numpy as np\n",
    "import pandas as pd\n",
    "import os\n",
    "from matplotlib import pyplot as plt\n",
    "\n",
    "X = np.load('../Dvara/X_10_2_re.npy')\n",
    "y = np.load('../Dvara/y_10_2_re.npy')\n",
    "#y = (X[:,-1,-1]>=5)*1"
   ]
  },
  {
   "cell_type": "code",
   "execution_count": 168,
   "metadata": {},
   "outputs": [],
   "source": [
    "ind_pass1 = np.isnan(X).sum(axis=1).sum(axis=1)\n",
    "ind_pass2 = [i==0 for i in ind_pass1]"
   ]
  },
  {
   "cell_type": "code",
   "execution_count": 169,
   "metadata": {},
   "outputs": [],
   "source": [
    "X = X[ind_pass2]\n",
    "y = y[ind_pass2]"
   ]
  },
  {
   "cell_type": "code",
   "execution_count": 539,
   "metadata": {},
   "outputs": [],
   "source": [
    "req_cols = ['active_loans_count', 'opened_loans_count', 'closed_loans_count', 'churn', 'outstanding_loans_end', 'cross_bor', 'outstanding_loans_beginning', 'income_annual', 'expense_quarter', 'emi', 'dpd']\n",
    "\n",
    "# acc_cols = [7,8,10]\n",
    "# X = X[:,:,acc_cols]\n",
    "\n",
    "col1 = [0,1,2,3,4,5,6]\n",
    "col2 = [7,8,9]\n",
    "col3 = [10]"
   ]
  },
  {
   "cell_type": "code",
   "execution_count": 568,
   "metadata": {
    "scrolled": true
   },
   "outputs": [],
   "source": [
    "from keras.models import Sequential, Model\n",
    "from keras.layers import Dense, LSTM, GRU, Input, Dropout, Lambda, TimeDistributed, Concatenate, Maximum\n",
    "from keras.utils import np_utils\n",
    "from sklearn.preprocessing import LabelEncoder\n",
    "from keras.callbacks import EarlyStopping\n",
    "\n",
    "from sklearn.model_selection import train_test_split\n",
    "\n",
    "X_train, X_test, y_train, y_test = train_test_split(X, y, test_size=0.3, random_state=77)\n",
    "\n",
    "X_train1 = X_train[:,:,col1]\n",
    "X_train2 = X_train[:,:,col2]\n",
    "X_train3 = (X_train[:,:,col3]>=5)*1\n",
    "\n",
    "X_test1 = X_test[:,:,col1]\n",
    "X_test2 = X_test[:,:,col2]\n",
    "X_test3 = (X_test[:,:,col3]>=5)*1"
   ]
  },
  {
   "cell_type": "code",
   "execution_count": 569,
   "metadata": {},
   "outputs": [],
   "source": [
    "import keras.backend as K"
   ]
  },
  {
   "cell_type": "code",
   "execution_count": 570,
   "metadata": {},
   "outputs": [],
   "source": [
    "from keras.regularizers import l2\n",
    "\n",
    "inp1 = Input(shape=(X_train1.shape[1], X_train1.shape[2]))\n",
    "inp2 = Input(shape=(X_train2.shape[1], X_train2.shape[2]))\n",
    "inp3 = Input(shape=(X_train3.shape[1], X_train3.shape[2]))\n",
    "\n",
    "layer1_1 = LSTM(64, activation='tanh', recurrent_dropout=0.3, return_sequences=True, kernel_regularizer=l2(0.000001))(inp1)\n",
    "layer2_1 = GRU(32, activation='tanh', recurrent_dropout=0.3, kernel_regularizer=l2(0.000001))(layer1_1)\n",
    "\n",
    "layer1_2 = LSTM(64, activation='tanh', recurrent_dropout=0.3, return_sequences=True, kernel_regularizer=l2(0.000001))(inp2)\n",
    "layer2_2 = GRU(32, activation='tanh', recurrent_dropout=0.3, kernel_regularizer=l2(0.000001))(layer1_2)\n",
    "\n",
    "layer1_3 = LSTM(64, activation='tanh', recurrent_dropout=0.3, return_sequences=True, kernel_regularizer=l2(0.000001))(inp3)\n",
    "layer2_3 = GRU(64, activation='tanh', recurrent_dropout=0.3, kernel_regularizer=l2(0.000001))(layer1_3)\n",
    "\n",
    "layer2 = Concatenate()([layer2_1, layer2_2])\n",
    "layer3 = Maximum()([layer2, layer2_3])\n",
    "\n",
    "layer4 = Dropout(0.4)(layer3)\n",
    "layer5 = Dense(32, activation = 'tanh')(layer4)\n",
    "layer6 = Dropout(0.4)(layer5)\n",
    "layer7 = Dense(8, activation='tanh')(layer6)\n",
    "out = Dense(1, activation = 'sigmoid')(layer7)\n",
    "\n",
    "model = Model(inputs=[inp1, inp2, inp3], outputs=out)"
   ]
  },
  {
   "cell_type": "code",
   "execution_count": 571,
   "metadata": {},
   "outputs": [],
   "source": [
    "def custom_loss(layer):\n",
    "\n",
    "    # Create a loss function that adds the MSE loss to the mean of all squared activations of a specific layer\n",
    "    def loss(y_true,y_pred):\n",
    "        return K.binary_crossentropy(y_true, y_pred) + 5*K.mean(layer[:,-1,0]*K.square(y_pred - layer[:,-1,0]), axis=-1)\n",
    "        #return K.mean(K.square(y_pred - y_true) + layer[:,-1,0]*K.square(y_pred - layer[:,-1,0]), axis=-1)\n",
    "        #return K.mean(K.square(y_pred - y_true) + 10*y_true*K.square(y_pred - y_true), axis=-1)\n",
    "   \n",
    "    # Return a function\n",
    "    return loss"
   ]
  },
  {
   "cell_type": "code",
   "execution_count": 572,
   "metadata": {},
   "outputs": [],
   "source": [
    "model.compile(optimizer='adam',\n",
    "          loss=custom_loss(inp3),\n",
    "          metrics=['accuracy'])"
   ]
  },
  {
   "cell_type": "code",
   "execution_count": 573,
   "metadata": {
    "scrolled": true
   },
   "outputs": [
    {
     "name": "stdout",
     "output_type": "stream",
     "text": [
      "__________________________________________________________________________________________________\n",
      "Layer (type)                    Output Shape         Param #     Connected to                     \n",
      "==================================================================================================\n",
      "input_19 (InputLayer)           (None, 10, 7)        0                                            \n",
      "__________________________________________________________________________________________________\n",
      "input_20 (InputLayer)           (None, 10, 3)        0                                            \n",
      "__________________________________________________________________________________________________\n",
      "lstm_18 (LSTM)                  (None, 10, 64)       18432       input_19[0][0]                   \n",
      "__________________________________________________________________________________________________\n",
      "lstm_19 (LSTM)                  (None, 10, 64)       17408       input_20[0][0]                   \n",
      "__________________________________________________________________________________________________\n",
      "input_21 (InputLayer)           (None, 10, 1)        0                                            \n",
      "__________________________________________________________________________________________________\n",
      "gru_18 (GRU)                    (None, 32)           9312        lstm_18[0][0]                    \n",
      "__________________________________________________________________________________________________\n",
      "gru_19 (GRU)                    (None, 32)           9312        lstm_19[0][0]                    \n",
      "__________________________________________________________________________________________________\n",
      "lstm_20 (LSTM)                  (None, 10, 64)       16896       input_21[0][0]                   \n",
      "__________________________________________________________________________________________________\n",
      "concatenate_7 (Concatenate)     (None, 64)           0           gru_18[0][0]                     \n",
      "                                                                 gru_19[0][0]                     \n",
      "__________________________________________________________________________________________________\n",
      "gru_20 (GRU)                    (None, 64)           24768       lstm_20[0][0]                    \n",
      "__________________________________________________________________________________________________\n",
      "maximum_6 (Maximum)             (None, 64)           0           concatenate_7[0][0]              \n",
      "                                                                 gru_20[0][0]                     \n",
      "__________________________________________________________________________________________________\n",
      "dropout_13 (Dropout)            (None, 64)           0           maximum_6[0][0]                  \n",
      "__________________________________________________________________________________________________\n",
      "dense_19 (Dense)                (None, 32)           2080        dropout_13[0][0]                 \n",
      "__________________________________________________________________________________________________\n",
      "dropout_14 (Dropout)            (None, 32)           0           dense_19[0][0]                   \n",
      "__________________________________________________________________________________________________\n",
      "dense_20 (Dense)                (None, 8)            264         dropout_14[0][0]                 \n",
      "__________________________________________________________________________________________________\n",
      "dense_21 (Dense)                (None, 1)            9           dense_20[0][0]                   \n",
      "==================================================================================================\n",
      "Total params: 98,481\n",
      "Trainable params: 98,481\n",
      "Non-trainable params: 0\n",
      "__________________________________________________________________________________________________\n"
     ]
    }
   ],
   "source": [
    "model.summary()"
   ]
  },
  {
   "cell_type": "code",
   "execution_count": 574,
   "metadata": {},
   "outputs": [
    {
     "name": "stdout",
     "output_type": "stream",
     "text": [
      "Train on 63322 samples, validate on 27138 samples\n",
      "Epoch 1/100\n",
      "63322/63322 [==============================] - 114s 2ms/step - loss: 0.9779 - acc: 0.7176 - val_loss: 0.9318 - val_acc: 0.8914\n",
      "Epoch 2/100\n",
      "63322/63322 [==============================] - 112s 2ms/step - loss: 0.9277 - acc: 0.8926 - val_loss: 0.9144 - val_acc: 0.9261\n",
      "Epoch 3/100\n",
      "63322/63322 [==============================] - 114s 2ms/step - loss: 0.9130 - acc: 0.9280 - val_loss: 0.9084 - val_acc: 0.9337\n",
      "Epoch 4/100\n",
      "63322/63322 [==============================] - 115s 2ms/step - loss: 0.9086 - acc: 0.9337 - val_loss: 0.9055 - val_acc: 0.9397\n",
      "Epoch 5/100\n",
      "63322/63322 [==============================] - 114s 2ms/step - loss: 0.9070 - acc: 0.9357 - val_loss: 0.9045 - val_acc: 0.9476\n",
      "Epoch 6/100\n",
      "63322/63322 [==============================] - 115s 2ms/step - loss: 0.9063 - acc: 0.9352 - val_loss: 0.9038 - val_acc: 0.9507\n",
      "Epoch 7/100\n",
      "63322/63322 [==============================] - 115s 2ms/step - loss: 0.9052 - acc: 0.9407 - val_loss: 0.9032 - val_acc: 0.9462\n",
      "Epoch 8/100\n",
      "63322/63322 [==============================] - 115s 2ms/step - loss: 0.9044 - acc: 0.9404 - val_loss: 0.9034 - val_acc: 0.9450\n",
      "Epoch 9/100\n",
      "63322/63322 [==============================] - 115s 2ms/step - loss: 0.9045 - acc: 0.9395 - val_loss: 0.9032 - val_acc: 0.9515\n",
      "Epoch 10/100\n",
      "63322/63322 [==============================] - 134s 2ms/step - loss: 0.9040 - acc: 0.9423 - val_loss: 0.9022 - val_acc: 0.9484\n",
      "Epoch 11/100\n",
      "63322/63322 [==============================] - 144s 2ms/step - loss: 0.9037 - acc: 0.9412 - val_loss: 0.9026 - val_acc: 0.9462\n",
      "Epoch 12/100\n",
      "63322/63322 [==============================] - 141s 2ms/step - loss: 0.9034 - acc: 0.9413 - val_loss: 0.9025 - val_acc: 0.9454\n"
     ]
    },
    {
     "data": {
      "text/plain": [
       "<keras.callbacks.History at 0x1ca5d013748>"
      ]
     },
     "execution_count": 574,
     "metadata": {},
     "output_type": "execute_result"
    }
   ],
   "source": [
    "callbacks = [EarlyStopping(monitor='val_loss', patience=2)]\n",
    "model.fit([X_train1, X_train2, X_train3], y_train, batch_size = 1024, epochs=100, validation_data=[[X_test1, X_test2, X_test3], y_test], shuffle=True, callbacks=callbacks)"
   ]
  },
  {
   "cell_type": "code",
   "execution_count": 575,
   "metadata": {},
   "outputs": [],
   "source": [
    "# Predict and get lables for the test data\n",
    "y_test_pred = (model.predict([X_test1, X_test2, X_test3])>=0.5)*1"
   ]
  },
  {
   "cell_type": "code",
   "execution_count": 576,
   "metadata": {},
   "outputs": [],
   "source": [
    "# model.save(\"rnn_pu_learning_model.h5\")"
   ]
  },
  {
   "cell_type": "code",
   "execution_count": 577,
   "metadata": {},
   "outputs": [
    {
     "name": "stdout",
     "output_type": "stream",
     "text": [
      "Test Accuracy: 0.9453902277249613\n",
      "\n",
      "Test F1 score:\n",
      "              precision    recall  f1-score   support\n",
      "\n",
      "        0.0       0.98      0.95      0.96     21279\n",
      "        1.0       0.85      0.91      0.88      5859\n",
      "\n",
      "avg / total       0.95      0.95      0.95     27138\n",
      "\n",
      "\n",
      "Test confusion matrix:\n",
      " [[20301   978]\n",
      " [  504  5355]]\n"
     ]
    }
   ],
   "source": [
    "# Import packages for calculating metrics\n",
    "from sklearn.metrics import accuracy_score, classification_report, confusion_matrix\n",
    "print(\"Test Accuracy:\", accuracy_score(y_test, y_test_pred))\n",
    "print(\"\\nTest F1 score:\\n\", classification_report(y_test, y_test_pred))\n",
    "print(\"\\nTest confusion matrix:\\n\", confusion_matrix(y_test, y_test_pred))"
   ]
  },
  {
   "cell_type": "markdown",
   "metadata": {},
   "source": [
    "### Validation"
   ]
  },
  {
   "cell_type": "code",
   "execution_count": 578,
   "metadata": {},
   "outputs": [],
   "source": [
    "n = 1\n",
    "X_knn_val = np.load('Validation_Dataset_for_Autoencoder.npy')\n",
    "y_knn_val_new = ((X_knn_val[:,-n:,-1]>=5).sum(axis=1)>=1)*1\n",
    "#arr_hhs = np.load('val_labels.npy')"
   ]
  },
  {
   "cell_type": "code",
   "execution_count": 579,
   "metadata": {},
   "outputs": [],
   "source": [
    "arr_hhs = np.load('val_labels.npy')"
   ]
  },
  {
   "cell_type": "code",
   "execution_count": 580,
   "metadata": {},
   "outputs": [
    {
     "data": {
      "text/plain": [
       "1508"
      ]
     },
     "execution_count": 580,
     "metadata": {},
     "output_type": "execute_result"
    }
   ],
   "source": [
    "len(arr_hhs)"
   ]
  },
  {
   "cell_type": "code",
   "execution_count": 581,
   "metadata": {},
   "outputs": [],
   "source": [
    "# for i in range(len(y_knn_val_new)):\n",
    "#     if y_knn_val_new[i]==1:\n",
    "#         arr_hhs[i]=1"
   ]
  },
  {
   "cell_type": "code",
   "execution_count": 582,
   "metadata": {},
   "outputs": [],
   "source": [
    "ind_rej = np.logical_and(arr_hhs==0, y_knn_val_new==1)\n",
    "ind_pass = [i==False for i in ind_rej]"
   ]
  },
  {
   "cell_type": "code",
   "execution_count": 583,
   "metadata": {},
   "outputs": [],
   "source": [
    "X_knn_val = X_knn_val[ind_pass,:,:]\n",
    "y_knn_val_new = y_knn_val_new[ind_pass]\n",
    "arr_hhs = arr_hhs[ind_pass]"
   ]
  },
  {
   "cell_type": "code",
   "execution_count": 584,
   "metadata": {},
   "outputs": [],
   "source": [
    "X_knn_val1 = X_knn_val[:,:,col1]\n",
    "X_knn_val2 = X_knn_val[:,:,col2]\n",
    "X_knn_val3 = (X_knn_val[:,:,col3]>=5)*1"
   ]
  },
  {
   "cell_type": "code",
   "execution_count": 585,
   "metadata": {},
   "outputs": [],
   "source": [
    "val_pred_prob = model.predict([X_knn_val1, X_knn_val2, X_knn_val3])"
   ]
  },
  {
   "cell_type": "code",
   "execution_count": 586,
   "metadata": {},
   "outputs": [
    {
     "data": {
      "image/png": "[encoded data removed]",
      "text/plain": [
       "<matplotlib.figure.Figure at 0x1ca16480470>"
      ]
     },
     "metadata": {},
     "output_type": "display_data"
    }
   ],
   "source": [
    "plt.hist(val_pred_prob, bins=100)\n",
    "plt.show()"
   ]
  },
  {
   "cell_type": "code",
   "execution_count": 602,
   "metadata": {},
   "outputs": [],
   "source": [
    "val_pred = (val_pred_prob>=0.45)*1"
   ]
  },
  {
   "cell_type": "code",
   "execution_count": 603,
   "metadata": {},
   "outputs": [],
   "source": [
    "for i in range(len(y_knn_val_new)):\n",
    "    if y_knn_val_new[i] == 1:\n",
    "        val_pred[i] = 1"
   ]
  },
  {
   "cell_type": "code",
   "execution_count": 604,
   "metadata": {
    "scrolled": true
   },
   "outputs": [
    {
     "name": "stdout",
     "output_type": "stream",
     "text": [
      "Test Accuracy: 0.487627365356623\n",
      "\n",
      "Test F1 score:\n",
      "              precision    recall  f1-score   support\n",
      "\n",
      "          0       0.39      0.89      0.54       461\n",
      "          1       0.83      0.29      0.43       913\n",
      "\n",
      "avg / total       0.68      0.49      0.46      1374\n",
      "\n",
      "\n",
      "Test confusion matrix:\n",
      " [[408  53]\n",
      " [651 262]]\n"
     ]
    }
   ],
   "source": [
    "from sklearn.metrics import accuracy_score, classification_report, confusion_matrix\n",
    "print(\"Test Accuracy:\", accuracy_score(arr_hhs, val_pred))\n",
    "print(\"\\nTest F1 score:\\n\", classification_report(arr_hhs, val_pred))\n",
    "print(\"\\nTest confusion matrix:\\n\", confusion_matrix(arr_hhs, val_pred))"
   ]
  },
  {
   "cell_type": "code",
   "execution_count": 605,
   "metadata": {},
   "outputs": [
    {
     "name": "stdout",
     "output_type": "stream",
     "text": [
      "Test Accuracy: 0.4737991266375546\n",
      "\n",
      "Test F1 score:\n",
      "              precision    recall  f1-score   support\n",
      "\n",
      "          0       0.39      1.00      0.56       461\n",
      "          1       1.00      0.21      0.34       913\n",
      "\n",
      "avg / total       0.80      0.47      0.42      1374\n",
      "\n",
      "\n",
      "Test confusion matrix:\n",
      " [[461   0]\n",
      " [723 190]]\n"
     ]
    }
   ],
   "source": [
    "from sklearn.metrics import accuracy_score, classification_report, confusion_matrix\n",
    "print(\"Test Accuracy:\", accuracy_score(arr_hhs, y_knn_val_new))\n",
    "print(\"\\nTest F1 score:\\n\", classification_report(arr_hhs, y_knn_val_new))\n",
    "print(\"\\nTest confusion matrix:\\n\", confusion_matrix(arr_hhs, y_knn_val_new))"
   ]
  },
  {
   "cell_type": "code",
   "execution_count": null,
   "metadata": {},
   "outputs": [],
   "source": []
  },
  {
   "cell_type": "code",
   "execution_count": null,
   "metadata": {},
   "outputs": [],
   "source": []
  },
  {
   "cell_type": "markdown",
   "metadata": {},
   "source": [
    "### Performance on RNN wo PU on distress"
   ]
  },
  {
   "cell_type": "code",
   "execution_count": 426,
   "metadata": {},
   "outputs": [],
   "source": [
    "from keras.models import load_model\n",
    "rnn_model = load_model('../Dvara/rnn_best_model3.h5')"
   ]
  },
  {
   "cell_type": "code",
   "execution_count": 438,
   "metadata": {},
   "outputs": [],
   "source": [
    "X_knn_val1 = X_knn_val[:,:,col1]\n",
    "X_knn_val2 = X_knn_val[:,:,col2]\n",
    "X_knn_val3 = X_knn_val[:,:,col3]\n",
    "\n",
    "val_pred_prob = rnn_model.predict([X_knn_val1, X_knn_val2, X_knn_val3])"
   ]
  },
  {
   "cell_type": "code",
   "execution_count": 439,
   "metadata": {},
   "outputs": [],
   "source": [
    "val_pred = (val_pred_prob>=0.5)*1"
   ]
  },
  {
   "cell_type": "code",
   "execution_count": 440,
   "metadata": {},
   "outputs": [
    {
     "name": "stdout",
     "output_type": "stream",
     "text": [
      "Test Accuracy: 0.42358078602620086\n",
      "\n",
      "Test F1 score:\n",
      "              precision    recall  f1-score   support\n",
      "\n",
      "          0       0.37      1.00      0.54       461\n",
      "          1       0.99      0.13      0.24       913\n",
      "\n",
      "avg / total       0.78      0.42      0.34      1374\n",
      "\n",
      "\n",
      "Test confusion matrix:\n",
      " [[460   1]\n",
      " [791 122]]\n"
     ]
    }
   ],
   "source": [
    "from sklearn.metrics import accuracy_score, classification_report, confusion_matrix\n",
    "print(\"Test Accuracy:\", accuracy_score(arr_hhs, val_pred))\n",
    "print(\"\\nTest F1 score:\\n\", classification_report(arr_hhs, val_pred))\n",
    "print(\"\\nTest confusion matrix:\\n\", confusion_matrix(arr_hhs, val_pred))"
   ]
  },
  {
   "cell_type": "markdown",
   "metadata": {},
   "source": [
    "### Performance of PU learning model where dpd 10 q is less than 999"
   ]
  },
  {
   "cell_type": "code",
   "execution_count": 507,
   "metadata": {},
   "outputs": [],
   "source": [
    "X = np.load('../Dvara/X_10_2_re.npy')\n",
    "y = np.load('../Dvara/y_10_2_re.npy')\n",
    "\n",
    "ind_pass1 = np.isnan(X).sum(axis=1).sum(axis=1)\n",
    "ind_pass2 = [i==0 for i in ind_pass1]\n",
    "\n",
    "X = X[ind_pass2]\n",
    "y = y[ind_pass2]\n",
    "\n",
    "dpd_pass = X[:,-1,-1]<999\n",
    "X_pass = X[dpd_pass,:,:]\n",
    "y_pass = y[dpd_pass]\n",
    "\n",
    "X_pass1 = X_pass[:,:,col1]\n",
    "X_pass2 = X_pass[:,:,col2]\n",
    "X_pass3 = X_pass[:,:,col3]\n",
    "\n",
    "val_pred_prob = rnn_model.predict([X_pass1, X_pass2, X_pass3])"
   ]
  },
  {
   "cell_type": "code",
   "execution_count": 508,
   "metadata": {
    "scrolled": true
   },
   "outputs": [],
   "source": [
    "val_pred = (val_pred_prob>=0.5)*1"
   ]
  },
  {
   "cell_type": "code",
   "execution_count": 509,
   "metadata": {},
   "outputs": [
    {
     "name": "stdout",
     "output_type": "stream",
     "text": [
      "Test Accuracy: 0.9629620762306071\n",
      "\n",
      "Test F1 score:\n",
      "              precision    recall  f1-score   support\n",
      "\n",
      "        0.0       0.97      0.99      0.98     70920\n",
      "        1.0       0.92      0.83      0.87     12616\n",
      "\n",
      "avg / total       0.96      0.96      0.96     83536\n",
      "\n",
      "\n",
      "Test confusion matrix:\n",
      " [[70006   914]\n",
      " [ 2180 10436]]\n"
     ]
    }
   ],
   "source": [
    "from sklearn.metrics import accuracy_score, classification_report, confusion_matrix\n",
    "print(\"Test Accuracy:\", accuracy_score(y_pass, val_pred))\n",
    "print(\"\\nTest F1 score:\\n\", classification_report(y_pass, val_pred))\n",
    "print(\"\\nTest confusion matrix:\\n\", confusion_matrix(y_pass, val_pred))"
   ]
  },
  {
   "cell_type": "code",
   "execution_count": 511,
   "metadata": {},
   "outputs": [
    {
     "data": {
      "text/plain": [
       "0.151024707910362"
      ]
     },
     "execution_count": 511,
     "metadata": {},
     "output_type": "execute_result"
    }
   ],
   "source": [
    "(y_pass==1).sum()/y_pass.shape[0]"
   ]
  },
  {
   "cell_type": "markdown",
   "metadata": {},
   "source": [
    "### Performance of rnn model where dpd 10 q is less than t"
   ]
  },
  {
   "cell_type": "code",
   "execution_count": 469,
   "metadata": {},
   "outputs": [],
   "source": [
    "X = np.load('../Dvara/X_10_2_re.npy')\n",
    "y = np.load('../Dvara/y_10_2_re.npy')\n",
    "\n",
    "ind_pass1 = np.isnan(X).sum(axis=1).sum(axis=1)\n",
    "ind_pass2 = [i==0 for i in ind_pass1]\n",
    "\n",
    "X = X[ind_pass2]\n",
    "y = y[ind_pass2]\n",
    "\n",
    "dpd_pass = X[:,-1,-1]<90\n",
    "X_pass = X[dpd_pass,:,:]\n",
    "y_pass = y[dpd_pass]\n",
    "\n",
    "X_pass1 = X_pass[:,:,col1]\n",
    "X_pass2 = X_pass[:,:,col2]\n",
    "X_pass3 = X_pass[:,:,col3]\n",
    "\n",
    "val_pred_prob = rnn_model.predict([X_pass1, X_pass2, X_pass3])"
   ]
  },
  {
   "cell_type": "code",
   "execution_count": 483,
   "metadata": {},
   "outputs": [
    {
     "name": "stdout",
     "output_type": "stream",
     "text": [
      "Test Accuracy: 0.9677578009727308\n",
      "\n",
      "Test F1 score:\n",
      "              precision    recall  f1-score   support\n",
      "\n",
      "        0.0       0.97      1.00      0.98     69746\n",
      "        1.0       0.81      0.41      0.55      3450\n",
      "\n",
      "avg / total       0.96      0.97      0.96     73196\n",
      "\n",
      "\n",
      "Test confusion matrix:\n",
      " [[69422   324]\n",
      " [ 2036  1414]]\n"
     ]
    }
   ],
   "source": [
    "val_pred = (val_pred_prob>=0.5)*1\n",
    "\n",
    "from sklearn.metrics import accuracy_score, classification_report, confusion_matrix\n",
    "print(\"Test Accuracy:\", accuracy_score(y_pass, val_pred))\n",
    "print(\"\\nTest F1 score:\\n\", classification_report(y_pass, val_pred))\n",
    "print(\"\\nTest confusion matrix:\\n\", confusion_matrix(y_pass, val_pred))"
   ]
  },
  {
   "cell_type": "code",
   "execution_count": 484,
   "metadata": {},
   "outputs": [
    {
     "data": {
      "text/plain": [
       "0.047133723154270724"
      ]
     },
     "execution_count": 484,
     "metadata": {},
     "output_type": "execute_result"
    }
   ],
   "source": [
    "(y_pass==1).sum()/y_pass.shape[0]"
   ]
  },
  {
   "cell_type": "code",
   "execution_count": null,
   "metadata": {},
   "outputs": [],
   "source": []
  },
  {
   "cell_type": "markdown",
   "metadata": {},
   "source": [
    "### Performnace of q10 del"
   ]
  },
  {
   "cell_type": "code",
   "execution_count": 505,
   "metadata": {},
   "outputs": [
    {
     "name": "stdout",
     "output_type": "stream",
     "text": [
      "Test Accuracy: 0.9518129560026531\n",
      "\n",
      "Test F1 score:\n",
      "              precision    recall  f1-score   support\n",
      "\n",
      "        0.0       0.97      0.96      0.97     71148\n",
      "        1.0       0.87      0.91      0.89     19312\n",
      "\n",
      "avg / total       0.95      0.95      0.95     90460\n",
      "\n",
      "\n",
      "Test confusion matrix:\n",
      " [[68618  2530]\n",
      " [ 1829 17483]]\n"
     ]
    }
   ],
   "source": [
    "val_pred = (X[:,-1,-1]>=5)*1\n",
    "\n",
    "from sklearn.metrics import accuracy_score, classification_report, confusion_matrix\n",
    "print(\"Test Accuracy:\", accuracy_score(y, val_pred))\n",
    "print(\"\\nTest F1 score:\\n\", classification_report(y, val_pred))\n",
    "print(\"\\nTest confusion matrix:\\n\", confusion_matrix(y, val_pred))"
   ]
  },
  {
   "cell_type": "code",
   "execution_count": 506,
   "metadata": {},
   "outputs": [
    {
     "name": "stdout",
     "output_type": "stream",
     "text": [
      "Test Accuracy: 0.9634866239221755\n",
      "\n",
      "Test F1 score:\n",
      "              precision    recall  f1-score   support\n",
      "\n",
      "        0.0       0.97      0.98      0.98     71148\n",
      "        1.0       0.94      0.89      0.91     19312\n",
      "\n",
      "avg / total       0.96      0.96      0.96     90460\n",
      "\n",
      "\n",
      "Test confusion matrix:\n",
      " [[70038  1110]\n",
      " [ 2193 17119]]\n"
     ]
    }
   ],
   "source": [
    "X1 = X[:,:,col1]\n",
    "X2 = X[:,:,col2]\n",
    "X3 = X[:,:,col3]\n",
    "val_pred_prob = rnn_model.predict([X1, X2, X3])\n",
    "val_pred = (val_pred_prob>=0.5)*1\n",
    "\n",
    "print(\"Test Accuracy:\", accuracy_score(y, val_pred))\n",
    "print(\"\\nTest F1 score:\\n\", classification_report(y, val_pred))\n",
    "print(\"\\nTest confusion matrix:\\n\", confusion_matrix(y, val_pred))"
   ]
  },
  {
   "cell_type": "code",
   "execution_count": null,
   "metadata": {},
   "outputs": [],
   "source": []
  }
 ],
 "metadata": {
  "kernelspec": {
   "display_name": "Python 3",
   "language": "python",
   "name": "python3"
  },
  "language_info": {
   "codemirror_mode": {
    "name": "ipython",
    "version": 3
   },
   "file_extension": ".py",
   "mimetype": "text/x-python",
   "name": "python",
   "nbconvert_exporter": "python",
   "pygments_lexer": "ipython3",
   "version": "3.7.6"
  }
 },
 "nbformat": 4,
 "nbformat_minor": 2
}
